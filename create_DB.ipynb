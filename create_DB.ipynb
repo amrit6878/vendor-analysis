{
 "cells": [
  {
   "cell_type": "markdown",
   "metadata": {},
   "source": [
    "## Project Work Flow - Defining Business Problem -> Explore Database Tables, Merge and Clean (SQL) -> EDA using Python -> Dashboard Using Tableau -> Report Writing "
   ]
  },
  {
   "cell_type": "code",
   "execution_count": 1,
   "metadata": {},
   "outputs": [
    {
     "name": "stdout",
     "output_type": "stream",
     "text": [
      "Requirement already satisfied: pandas in /opt/anaconda3/lib/python3.12/site-packages (2.2.2)\n",
      "Requirement already satisfied: sqlalchemy in /opt/anaconda3/lib/python3.12/site-packages (2.0.30)\n",
      "Requirement already satisfied: mysql-connector-python in /opt/anaconda3/lib/python3.12/site-packages (9.3.0)\n",
      "Requirement already satisfied: numpy>=1.26.0 in /opt/anaconda3/lib/python3.12/site-packages (from pandas) (1.26.4)\n",
      "Requirement already satisfied: python-dateutil>=2.8.2 in /opt/anaconda3/lib/python3.12/site-packages (from pandas) (2.9.0.post0)\n",
      "Requirement already satisfied: pytz>=2020.1 in /opt/anaconda3/lib/python3.12/site-packages (from pandas) (2024.1)\n",
      "Requirement already satisfied: tzdata>=2022.7 in /opt/anaconda3/lib/python3.12/site-packages (from pandas) (2023.3)\n",
      "Requirement already satisfied: typing-extensions>=4.6.0 in /opt/anaconda3/lib/python3.12/site-packages (from sqlalchemy) (4.11.0)\n",
      "Requirement already satisfied: six>=1.5 in /opt/anaconda3/lib/python3.12/site-packages (from python-dateutil>=2.8.2->pandas) (1.16.0)\n",
      "Note: you may need to restart the kernel to use updated packages.\n"
     ]
    }
   ],
   "source": [
    "pip install pandas sqlalchemy mysql-connector-python"
   ]
  },
  {
   "cell_type": "code",
   "execution_count": 2,
   "metadata": {},
   "outputs": [
    {
     "name": "stdout",
     "output_type": "stream",
     "text": [
      "✅ Database created or already exists.\n"
     ]
    }
   ],
   "source": [
    "from sqlalchemy import create_engine, text\n",
    "import urllib.parse\n",
    "\n",
    "# Credentials and connection\n",
    "user = \"amrituser\"\n",
    "password = urllib.parse.quote(\"Amrit@2004\")\n",
    "host = \"127.0.0.1\"\n",
    "port = \"3306\"\n",
    "\n",
    "# Create engine (no DB yet)\n",
    "engine = create_engine(f\"mysql+mysqlconnector://{user}:{password}@{host}:{port}\")\n",
    "\n",
    "# Connect and create DB\n",
    "conn = engine.connect()\n",
    "conn.execute(text(\"CREATE DATABASE IF NOT EXISTS csv_ingestion_db\"))\n",
    "print(\"✅ Database created or already exists.\")\n",
    "conn.close()"
   ]
  },
  {
   "cell_type": "code",
   "execution_count": 3,
   "metadata": {},
   "outputs": [],
   "source": [
    "# After DB has been created\n",
    "database = \"csv_ingestion_db\"\n",
    "\n",
    "engine = create_engine(f\"mysql+mysqlconnector://{user}:{password}@{host}:{port}/{database}\")"
   ]
  },
  {
   "cell_type": "code",
   "execution_count": 4,
   "metadata": {},
   "outputs": [
    {
     "name": "stdout",
     "output_type": "stream",
     "text": [
      "Uploading: purchases.csv → Table: purchases\n",
      "chunk uploaded : 0\n",
      "chunk uploaded : 1\n",
      "chunk uploaded : 2\n",
      "chunk uploaded : 3\n",
      "chunk uploaded : 4\n",
      "chunk uploaded : 5\n",
      "Uploading: purchase_prices.csv → Table: purchase_prices\n",
      "chunk uploaded : 0\n",
      "Uploading: vendor_invoice.csv → Table: vendor_invoice\n",
      "chunk uploaded : 0\n",
      "Uploading: begin_inventory.csv → Table: begin_inventory\n",
      "chunk uploaded : 0\n",
      "Uploading: end_inventory.csv → Table: end_inventory\n",
      "chunk uploaded : 0\n",
      "Uploading: sales.csv → Table: sales\n",
      "chunk uploaded : 0\n",
      "chunk uploaded : 1\n",
      "chunk uploaded : 2\n",
      "chunk uploaded : 3\n",
      "chunk uploaded : 4\n",
      "chunk uploaded : 5\n",
      "chunk uploaded : 6\n",
      "chunk uploaded : 7\n",
      "chunk uploaded : 8\n",
      "chunk uploaded : 9\n",
      "chunk uploaded : 10\n",
      "chunk uploaded : 11\n",
      "chunk uploaded : 12\n",
      "chunk uploaded : 13\n",
      "chunk uploaded : 14\n",
      "chunk uploaded : 15\n",
      "chunk uploaded : 16\n",
      "chunk uploaded : 17\n",
      "chunk uploaded : 18\n",
      "chunk uploaded : 19\n",
      "chunk uploaded : 20\n",
      "chunk uploaded : 21\n",
      "chunk uploaded : 22\n",
      "chunk uploaded : 23\n",
      "chunk uploaded : 24\n",
      "chunk uploaded : 25\n",
      "chunk uploaded : 26\n",
      "chunk uploaded : 27\n",
      "chunk uploaded : 28\n",
      "chunk uploaded : 29\n",
      "chunk uploaded : 30\n",
      "chunk uploaded : 31\n",
      "chunk uploaded : 32\n",
      "All files uploaded successfully.\n"
     ]
    }
   ],
   "source": [
    "import pandas as pd\n",
    "import numpy as np \n",
    "import os\n",
    "\n",
    "for file in os.listdir('/Users/abcd/Desktop/cooding/notebook/Vendor Performance Analysis/data'):\n",
    "    if file.endswith('.csv'):\n",
    "        file_path = os.path.join('/Users/abcd/Desktop/cooding/notebook/Vendor Performance Analysis/data', file)\n",
    "        table_name = os.path.splitext(file)[0]\n",
    "\n",
    "        print(f\"Uploading: {file} → Table: {table_name}\")\n",
    "\n",
    "# Push to MySQL table\n",
    "        chunk_size = 400000\n",
    "        i = 0;\n",
    "        for chunk in pd.read_csv(file_path, chunksize=chunk_size):\n",
    "            chunk.to_sql(table_name, con=engine, index=False, if_exists='append')\n",
    "            print(f\"chunk uploaded : {i}\")\n",
    "            i += 1\n",
    "\n",
    "\n",
    "print(\"All files uploaded successfully.\")"
   ]
  },
  {
   "cell_type": "code",
   "execution_count": null,
   "metadata": {},
   "outputs": [],
   "source": []
  }
 ],
 "metadata": {
  "kernelspec": {
   "display_name": "base",
   "language": "python",
   "name": "python3"
  },
  "language_info": {
   "codemirror_mode": {
    "name": "ipython",
    "version": 3
   },
   "file_extension": ".py",
   "mimetype": "text/x-python",
   "name": "python",
   "nbconvert_exporter": "python",
   "pygments_lexer": "ipython3",
   "version": "3.12.4"
  }
 },
 "nbformat": 4,
 "nbformat_minor": 2
}
